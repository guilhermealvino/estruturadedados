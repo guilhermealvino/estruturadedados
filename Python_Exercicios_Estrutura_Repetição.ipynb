{
  "nbformat": 4,
  "nbformat_minor": 0,
  "metadata": {
    "colab": {
      "name": "Python Exercicios Estrutura Repetição.ipynb",
      "provenance": []
    },
    "kernelspec": {
      "name": "python3",
      "display_name": "Python 3"
    },
    "language_info": {
      "name": "python"
    }
  },
  "cells": [
    {
      "cell_type": "code",
      "metadata": {
        "colab": {
          "base_uri": "https://localhost:8080/"
        },
        "id": "pElKSlM_fvTd",
        "outputId": "c9d3ade6-c58c-490e-bfe0-48b133f36dbe"
      },
      "source": [
        "nota = media = soma = 0\n",
        "\n",
        "for _ in range(1, 6):\n",
        "  nota = float(input(\"Digite sua nota: \"))\n",
        "  soma += nota\n",
        "print(soma)\n",
        "\n",
        "media = soma/5\n",
        "print(\"A media é: \", media)"
      ],
      "execution_count": null,
      "outputs": [
        {
          "output_type": "stream",
          "text": [
            "Digite sua nota: 10\n",
            "Digite sua nota: 10\n",
            "Digite sua nota: 10\n",
            "Digite sua nota: 10\n",
            "Digite sua nota: 10\n",
            "50.0\n",
            "A media é:  10.0\n"
          ],
          "name": "stdout"
        }
      ]
    },
    {
      "cell_type": "code",
      "metadata": {
        "colab": {
          "base_uri": "https://localhost:8080/"
        },
        "id": "sCrH4wBjgCfA",
        "outputId": "d9bce472-746d-4f66-d215-5fa9c902254b"
      },
      "source": [
        "numero = 1\n",
        "while numero <= 5:\n",
        "  nota = float(input(\"Digite a sua nota: \"))\n",
        "  numero += 1\n",
        "print(\"A sua media é: \", soma/5)"
      ],
      "execution_count": null,
      "outputs": [
        {
          "output_type": "stream",
          "text": [
            "Digite a sua nota: 10\n",
            "Digite a sua nota: 10\n",
            "Digite a sua nota: 10\n",
            "Digite a sua nota: 10\n",
            "Digite a sua nota: 10\n",
            "A sua media é:  10.0\n"
          ],
          "name": "stdout"
        }
      ]
    },
    {
      "cell_type": "code",
      "metadata": {
        "id": "TAEOpeecgkAa"
      },
      "source": [
        ""
      ],
      "execution_count": null,
      "outputs": []
    },
    {
      "cell_type": "markdown",
      "metadata": {
        "id": "SsPM2FHohGxs"
      },
      "source": [
        "**EXERCICIO 2**\n",
        "\n",
        "Imprimir a tabuada do numero 3(3x1 =-3x10=30)**negrito**"
      ]
    },
    {
      "cell_type": "code",
      "metadata": {
        "colab": {
          "base_uri": "https://localhost:8080/"
        },
        "id": "HEKPmYUDhXGQ",
        "outputId": "b6a1e956-971c-419d-e6a8-caa826d0b81c"
      },
      "source": [
        "for i in range(1, 11):\n",
        "  print('3 x {} = {}'.format(i, 3 * i))"
      ],
      "execution_count": null,
      "outputs": [
        {
          "output_type": "stream",
          "text": [
            "3 x 1 = 3\n",
            "3 x 2 = 6\n",
            "3 x 3 = 9\n",
            "3 x 4 = 12\n",
            "3 x 5 = 15\n",
            "3 x 6 = 18\n",
            "3 x 7 = 21\n",
            "3 x 8 = 24\n",
            "3 x 9 = 27\n",
            "3 x 10 = 30\n"
          ],
          "name": "stdout"
        }
      ]
    },
    {
      "cell_type": "code",
      "metadata": {
        "id": "VIjXYg7lhwVJ"
      },
      "source": [
        ""
      ],
      "execution_count": null,
      "outputs": []
    }
  ]
}