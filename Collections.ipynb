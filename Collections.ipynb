{
  "nbformat": 4,
  "nbformat_minor": 0,
  "metadata": {
    "colab": {
      "name": "Collections.ipynb",
      "provenance": [],
      "authorship_tag": "ABX9TyN+n6yGfcVFJ5a2VTeTxKr3",
      "include_colab_link": true
    },
    "kernelspec": {
      "name": "python3",
      "display_name": "Python 3"
    },
    "language_info": {
      "name": "python"
    }
  },
  "cells": [
    {
      "cell_type": "markdown",
      "metadata": {
        "id": "view-in-github",
        "colab_type": "text"
      },
      "source": [
        "<a href=\"https://colab.research.google.com/github/guilhermealvino/estruturadedados/blob/main/Collections.ipynb\" target=\"_parent\"><img src=\"https://colab.research.google.com/assets/colab-badge.svg\" alt=\"Open In Colab\"/></a>"
      ]
    },
    {
      "cell_type": "code",
      "metadata": {
        "id": "mrrwZbkjt_rE"
      },
      "source": [
        ""
      ],
      "execution_count": null,
      "outputs": []
    },
    {
      "cell_type": "markdown",
      "metadata": {
        "id": "XPCe9aP6uIfi"
      },
      "source": [
        "Tuplas"
      ]
    },
    {
      "cell_type": "code",
      "metadata": {
        "id": "K586p0lmuJ5o"
      },
      "source": [
        "tupla = ('Homo sapiens', 'canis familiaris', 'Felis catus')"
      ],
      "execution_count": null,
      "outputs": []
    },
    {
      "cell_type": "code",
      "metadata": {
        "colab": {
          "base_uri": "https://localhost:8080/"
        },
        "id": "S4r_xvr7uVnI",
        "outputId": "091fcf57-72d7-47d5-f25e-8ac2c417055e"
      },
      "source": [
        "tupla"
      ],
      "execution_count": null,
      "outputs": [
        {
          "output_type": "execute_result",
          "data": {
            "text/plain": [
              "('Homo sapiens', 'canis familiaris', 'Felis catus')"
            ]
          },
          "metadata": {
            "tags": []
          },
          "execution_count": 2
        }
      ]
    },
    {
      "cell_type": "code",
      "metadata": {
        "colab": {
          "base_uri": "https://localhost:8080/",
          "height": 35
        },
        "id": "5JAG6uNguXi6",
        "outputId": "3221685b-665f-49b5-c672-04006f6e1e0f"
      },
      "source": [
        "tupla[0]"
      ],
      "execution_count": null,
      "outputs": [
        {
          "output_type": "execute_result",
          "data": {
            "application/vnd.google.colaboratory.intrinsic+json": {
              "type": "string"
            },
            "text/plain": [
              "'Homo sapiens'"
            ]
          },
          "metadata": {
            "tags": []
          },
          "execution_count": 3
        }
      ]
    },
    {
      "cell_type": "code",
      "metadata": {
        "colab": {
          "base_uri": "https://localhost:8080/"
        },
        "id": "cZBbaoRzuZEx",
        "outputId": "724adc07-1d90-45b2-db6c-70f350ff039e"
      },
      "source": [
        "tupla.index('canis familiaris')"
      ],
      "execution_count": null,
      "outputs": [
        {
          "output_type": "execute_result",
          "data": {
            "text/plain": [
              "1"
            ]
          },
          "metadata": {
            "tags": []
          },
          "execution_count": 4
        }
      ]
    },
    {
      "cell_type": "code",
      "metadata": {
        "colab": {
          "base_uri": "https://localhost:8080/"
        },
        "id": "VrmO7e27ujuZ",
        "outputId": "1cc52f15-6b93-4ab0-9826-0ddf3109e7da"
      },
      "source": [
        "for elemento in tupla:\n",
        "  print(elemento)"
      ],
      "execution_count": null,
      "outputs": [
        {
          "output_type": "stream",
          "text": [
            "Homo sapiens\n",
            "canis familiaris\n",
            "Felis catus\n"
          ],
          "name": "stdout"
        }
      ]
    },
    {
      "cell_type": "markdown",
      "metadata": {
        "id": "azDkQKS8utgy"
      },
      "source": [
        "Listas"
      ]
    },
    {
      "cell_type": "code",
      "metadata": {
        "id": "dju4zKncuvkx"
      },
      "source": [
        "l1 = ['Homo sapiens', 'canis familiaris', 'Felis catus']"
      ],
      "execution_count": null,
      "outputs": []
    },
    {
      "cell_type": "code",
      "metadata": {
        "id": "JTjPviiku8Xw"
      },
      "source": [
        "l2 = ['Xenopus leavis', 'Ailuropo melanoleuca']"
      ],
      "execution_count": null,
      "outputs": []
    },
    {
      "cell_type": "code",
      "metadata": {
        "id": "bSDuJuTgvEW-"
      },
      "source": [
        "l3 = l1 + l2"
      ],
      "execution_count": null,
      "outputs": []
    },
    {
      "cell_type": "code",
      "metadata": {
        "colab": {
          "base_uri": "https://localhost:8080/"
        },
        "id": "JL4QBdDSvHUm",
        "outputId": "abb3a595-691a-4f59-f267-4158b7709aab"
      },
      "source": [
        "print(l3)"
      ],
      "execution_count": null,
      "outputs": [
        {
          "output_type": "stream",
          "text": [
            "['Homo sapiens', 'canis familiaris', 'Felis catus', 'Xenopus leavis', 'Ailuropo melanoleuca']\n"
          ],
          "name": "stdout"
        }
      ]
    },
    {
      "cell_type": "code",
      "metadata": {
        "colab": {
          "base_uri": "https://localhost:8080/"
        },
        "id": "zaaFSPM0vKDW",
        "outputId": "9aa23ff8-fe48-4c1c-d837-53eef942ea74"
      },
      "source": [
        "l2_2 = l2 * 2\n",
        "print(l2_2)"
      ],
      "execution_count": null,
      "outputs": [
        {
          "output_type": "stream",
          "text": [
            "['Xenopus leavis', 'Ailuropo melanoleuca', 'Xenopus leavis', 'Ailuropo melanoleuca']\n"
          ],
          "name": "stdout"
        }
      ]
    },
    {
      "cell_type": "code",
      "metadata": {
        "colab": {
          "base_uri": "https://localhost:8080/"
        },
        "id": "G2bXHPMXvUE5",
        "outputId": "8f2b1fcb-992d-4a77-9623-655bd862889a"
      },
      "source": [
        "l1[:2]"
      ],
      "execution_count": null,
      "outputs": [
        {
          "output_type": "execute_result",
          "data": {
            "text/plain": [
              "['Homo sapiens', 'canis familiaris']"
            ]
          },
          "metadata": {
            "tags": []
          },
          "execution_count": 13
        }
      ]
    },
    {
      "cell_type": "code",
      "metadata": {
        "id": "2DTG9evd3w-L"
      },
      "source": [
        "l1.append('Gorila gorila')"
      ],
      "execution_count": null,
      "outputs": []
    },
    {
      "cell_type": "code",
      "metadata": {
        "colab": {
          "base_uri": "https://localhost:8080/"
        },
        "id": "a2gn1h3333u7",
        "outputId": "19bc3024-3003-458b-b4d8-074f7e023696"
      },
      "source": [
        "print(l1)"
      ],
      "execution_count": null,
      "outputs": [
        {
          "output_type": "stream",
          "text": [
            "['Homo sapiens', 'canis familiaris', 'Felis catus', 'Gorila gorila']\n"
          ],
          "name": "stdout"
        }
      ]
    },
    {
      "cell_type": "code",
      "metadata": {
        "id": "L8dJQ06P34iQ"
      },
      "source": [
        "l1.remove('Gorila gorila')"
      ],
      "execution_count": null,
      "outputs": []
    },
    {
      "cell_type": "code",
      "metadata": {
        "colab": {
          "base_uri": "https://localhost:8080/"
        },
        "id": "NAjO0ISb39vQ",
        "outputId": "43b3a84b-e3a8-45e0-d6e0-dc388ef4f150"
      },
      "source": [
        "l1"
      ],
      "execution_count": null,
      "outputs": [
        {
          "output_type": "execute_result",
          "data": {
            "text/plain": [
              "['Homo sapiens', 'canis familiaris', 'Felis catus']"
            ]
          },
          "metadata": {
            "tags": []
          },
          "execution_count": 17
        }
      ]
    },
    {
      "cell_type": "code",
      "metadata": {
        "id": "1KmjZL_D3-kZ"
      },
      "source": [
        "del(l1)"
      ],
      "execution_count": null,
      "outputs": []
    },
    {
      "cell_type": "code",
      "metadata": {
        "colab": {
          "base_uri": "https://localhost:8080/",
          "height": 163
        },
        "id": "WdrPbaAD4BNL",
        "outputId": "7376a4ff-714d-41a6-f135-24ec6ad92903"
      },
      "source": [
        "print(l1)"
      ],
      "execution_count": null,
      "outputs": [
        {
          "output_type": "error",
          "ename": "NameError",
          "evalue": "ignored",
          "traceback": [
            "\u001b[0;31m---------------------------------------------------------------------------\u001b[0m",
            "\u001b[0;31mNameError\u001b[0m                                 Traceback (most recent call last)",
            "\u001b[0;32m<ipython-input-19-9957399d2fc4>\u001b[0m in \u001b[0;36m<module>\u001b[0;34m()\u001b[0m\n\u001b[0;32m----> 1\u001b[0;31m \u001b[0mprint\u001b[0m\u001b[0;34m(\u001b[0m\u001b[0ml1\u001b[0m\u001b[0;34m)\u001b[0m\u001b[0;34m\u001b[0m\u001b[0;34m\u001b[0m\u001b[0m\n\u001b[0m",
            "\u001b[0;31mNameError\u001b[0m: name 'l1' is not defined"
          ]
        }
      ]
    },
    {
      "cell_type": "code",
      "metadata": {
        "colab": {
          "base_uri": "https://localhost:8080/"
        },
        "id": "LPX51ByY4CM8",
        "outputId": "780dd22d-afea-4cf9-f789-763b4f3c2c0f"
      },
      "source": [
        "for item in l2_2:\n",
        "  print(item)"
      ],
      "execution_count": null,
      "outputs": [
        {
          "output_type": "stream",
          "text": [
            "Xenopus leavis\n",
            "Ailuropo melanoleuca\n",
            "Xenopus leavis\n",
            "Ailuropo melanoleuca\n"
          ],
          "name": "stdout"
        }
      ]
    },
    {
      "cell_type": "markdown",
      "metadata": {
        "id": "1toXepwX40Ms"
      },
      "source": [
        "**Dicionarios**"
      ]
    },
    {
      "cell_type": "code",
      "metadata": {
        "id": "4LGYv1ED4KDq"
      },
      "source": [
        "#tupla usam (), listas usam [] e dicionarios {}"
      ],
      "execution_count": null,
      "outputs": []
    },
    {
      "cell_type": "code",
      "metadata": {
        "id": "BsJ5810e5MyG"
      },
      "source": [
        "coleta = {'Aedes aegypt': 32, 'Aedes albopictus':22, 'anopheles darlingi': 14}"
      ],
      "execution_count": 4,
      "outputs": []
    },
    {
      "cell_type": "code",
      "metadata": {
        "colab": {
          "base_uri": "https://localhost:8080/"
        },
        "id": "HPwlMUKR5aqI",
        "outputId": "c653e373-1c2a-4bf0-8b84-720302eaa3d2"
      },
      "source": [
        "coleta['Aedes aegypt']"
      ],
      "execution_count": 5,
      "outputs": [
        {
          "output_type": "execute_result",
          "data": {
            "text/plain": [
              "32"
            ]
          },
          "metadata": {
            "tags": []
          },
          "execution_count": 5
        }
      ]
    },
    {
      "cell_type": "code",
      "metadata": {
        "colab": {
          "base_uri": "https://localhost:8080/"
        },
        "id": "RP_LrP_-5jqH",
        "outputId": "ce6d7622-b528-440a-ad47-2efe2a726440"
      },
      "source": [
        "coleta['Rhodnius montegrensis'] = 11\n",
        "coleta"
      ],
      "execution_count": 6,
      "outputs": [
        {
          "output_type": "execute_result",
          "data": {
            "text/plain": [
              "{'Aedes aegypt': 32,\n",
              " 'Aedes albopictus': 22,\n",
              " 'Rhodnius montegrensis': 11,\n",
              " 'anopheles darlingi': 14}"
            ]
          },
          "metadata": {
            "tags": []
          },
          "execution_count": 6
        }
      ]
    },
    {
      "cell_type": "code",
      "metadata": {
        "colab": {
          "base_uri": "https://localhost:8080/"
        },
        "id": "o9XHdHGi5th3",
        "outputId": "427d9f09-a9cf-4032-a5e4-5876bb79499b"
      },
      "source": [
        "print(coleta)"
      ],
      "execution_count": 7,
      "outputs": [
        {
          "output_type": "stream",
          "text": [
            "{'Aedes aegypt': 32, 'Aedes albopictus': 22, 'anopheles darlingi': 14, 'Rhodnius montegrensis': 11}\n"
          ],
          "name": "stdout"
        }
      ]
    },
    {
      "cell_type": "code",
      "metadata": {
        "id": "3rqP2ikl5xdw"
      },
      "source": [
        "del(coleta)['Aedes albopictus']"
      ],
      "execution_count": 8,
      "outputs": []
    },
    {
      "cell_type": "code",
      "metadata": {
        "colab": {
          "base_uri": "https://localhost:8080/"
        },
        "id": "pnmP5Mty58fX",
        "outputId": "41e95014-b64b-45d6-fdff-32252b5de869"
      },
      "source": [
        "print(coleta)"
      ],
      "execution_count": 9,
      "outputs": [
        {
          "output_type": "stream",
          "text": [
            "{'Aedes aegypt': 32, 'anopheles darlingi': 14, 'Rhodnius montegrensis': 11}\n"
          ],
          "name": "stdout"
        }
      ]
    },
    {
      "cell_type": "code",
      "metadata": {
        "colab": {
          "base_uri": "https://localhost:8080/"
        },
        "id": "idu2A9sj592f",
        "outputId": "291516c7-0b9f-4870-ea8c-88d91453a872"
      },
      "source": [
        "coleta.items()"
      ],
      "execution_count": 10,
      "outputs": [
        {
          "output_type": "execute_result",
          "data": {
            "text/plain": [
              "dict_items([('Aedes aegypt', 32), ('anopheles darlingi', 14), ('Rhodnius montegrensis', 11)])"
            ]
          },
          "metadata": {
            "tags": []
          },
          "execution_count": 10
        }
      ]
    },
    {
      "cell_type": "code",
      "metadata": {
        "colab": {
          "base_uri": "https://localhost:8080/"
        },
        "id": "68-NBB7L6ENA",
        "outputId": "0e8be174-b653-47df-d94a-f3a10a0fc2b4"
      },
      "source": [
        "coleta.keys()"
      ],
      "execution_count": 11,
      "outputs": [
        {
          "output_type": "execute_result",
          "data": {
            "text/plain": [
              "dict_keys(['Aedes aegypt', 'anopheles darlingi', 'Rhodnius montegrensis'])"
            ]
          },
          "metadata": {
            "tags": []
          },
          "execution_count": 11
        }
      ]
    },
    {
      "cell_type": "code",
      "metadata": {
        "colab": {
          "base_uri": "https://localhost:8080/"
        },
        "id": "vOjnwXkS6Jcm",
        "outputId": "65601ba9-1f30-4cf1-d8b4-74784153b6b7"
      },
      "source": [
        "coleta.values()"
      ],
      "execution_count": null,
      "outputs": [
        {
          "output_type": "execute_result",
          "data": {
            "text/plain": [
              "dict_values([32, 14, 11])"
            ]
          },
          "metadata": {
            "tags": []
          },
          "execution_count": 30
        }
      ]
    },
    {
      "cell_type": "code",
      "metadata": {
        "colab": {
          "base_uri": "https://localhost:8080/"
        },
        "id": "AkBwLrxD6N8f",
        "outputId": "ec9455b0-af8e-41f7-a692-d26bea16c387"
      },
      "source": [
        "coleta2 = {'Anopheles gambiae':13, 'Anopheles deanoreum':14}\n",
        "print(coleta2)"
      ],
      "execution_count": null,
      "outputs": [
        {
          "output_type": "stream",
          "text": [
            "{'Anopheles gambiae': 13, 'Anopheles deanoreum': 14}\n"
          ],
          "name": "stdout"
        }
      ]
    },
    {
      "cell_type": "code",
      "metadata": {
        "id": "NTJkYW3j6fAg"
      },
      "source": [
        "coleta.update(coleta2)"
      ],
      "execution_count": null,
      "outputs": []
    },
    {
      "cell_type": "code",
      "metadata": {
        "colab": {
          "base_uri": "https://localhost:8080/"
        },
        "id": "eko5NQU16o7Q",
        "outputId": "32fe0352-d0e7-4d28-c894-7ca431a6470b"
      },
      "source": [
        "print(coleta)"
      ],
      "execution_count": null,
      "outputs": [
        {
          "output_type": "stream",
          "text": [
            "{'Aedes aegypt': 32, 'anopheles darlingi': 14, 'Rhodnius montegrensis': 11, 'Anopheles gambiae': 13, 'Anopheles deanoreum': 14}\n"
          ],
          "name": "stdout"
        }
      ]
    },
    {
      "cell_type": "code",
      "metadata": {
        "colab": {
          "base_uri": "https://localhost:8080/"
        },
        "id": "--P-0jVy6p9f",
        "outputId": "034a73b6-f952-4089-d92f-0a399c67e5ba"
      },
      "source": [
        "coleta.items()"
      ],
      "execution_count": 12,
      "outputs": [
        {
          "output_type": "execute_result",
          "data": {
            "text/plain": [
              "dict_items([('Aedes aegypt', 32), ('anopheles darlingi', 14), ('Rhodnius montegrensis', 11)])"
            ]
          },
          "metadata": {
            "tags": []
          },
          "execution_count": 12
        }
      ]
    },
    {
      "cell_type": "code",
      "metadata": {
        "id": "KufgzqL26ux-",
        "colab": {
          "base_uri": "https://localhost:8080/"
        },
        "outputId": "d0f2b754-a336-4538-ab51-712220121a61"
      },
      "source": [
        "for especie, num_especimes in coleta.items():\n",
        "  print(f'Espécie: {especie}, número de especimescoletados: {num_especimes}')"
      ],
      "execution_count": 13,
      "outputs": [
        {
          "output_type": "stream",
          "text": [
            "Espécie: Aedes aegypt, número de especimescoletados: 32\n",
            "Espécie: anopheles darlingi, número de especimescoletados: 14\n",
            "Espécie: Rhodnius montegrensis, número de especimescoletados: 11\n"
          ],
          "name": "stdout"
        }
      ]
    },
    {
      "cell_type": "code",
      "metadata": {
        "id": "YdXfaz4pHTdh"
      },
      "source": [
        "biomoleculas = ('proteina', 'acidos nucleicos', 'carboidratos', 'lipideo', 'acidos nucleicos', 'carboidrato', 'carboidrato')"
      ],
      "execution_count": 17,
      "outputs": []
    },
    {
      "cell_type": "code",
      "metadata": {
        "colab": {
          "base_uri": "https://localhost:8080/"
        },
        "id": "o8wNpJCnJCZw",
        "outputId": "8c096ca9-7e93-4140-e08e-cdcce393b308"
      },
      "source": [
        "print(biomoleculas)"
      ],
      "execution_count": 18,
      "outputs": [
        {
          "output_type": "stream",
          "text": [
            "('proteina', 'acidos nucleicos', 'carboidratos', 'lipideo', 'acidos nucleicos', 'carboidrato', 'carboidrato')\n"
          ],
          "name": "stdout"
        }
      ]
    },
    {
      "cell_type": "code",
      "metadata": {
        "colab": {
          "base_uri": "https://localhost:8080/"
        },
        "id": "VNDM8ZD1JElS",
        "outputId": "810f1a27-9ec4-4ae1-dce6-08b696fdd64e"
      },
      "source": [
        "print(set(biomoleculas))"
      ],
      "execution_count": 19,
      "outputs": [
        {
          "output_type": "stream",
          "text": [
            "{'lipideo', 'proteina', 'carboidratos', 'acidos nucleicos', 'carboidrato'}\n"
          ],
          "name": "stdout"
        }
      ]
    },
    {
      "cell_type": "code",
      "metadata": {
        "id": "aLXz2ETIJI5A"
      },
      "source": [
        "c1 = {1,2,3,4,5}\n",
        "c2 = {3,4,5,6,7}\n",
        "c3 = c1.intersection(c2)"
      ],
      "execution_count": 20,
      "outputs": []
    },
    {
      "cell_type": "code",
      "metadata": {
        "colab": {
          "base_uri": "https://localhost:8080/"
        },
        "id": "1DbXdAF4JdNy",
        "outputId": "8fc9088c-7e64-4bd9-915e-4d1b4727e935"
      },
      "source": [
        "print(c3)"
      ],
      "execution_count": 21,
      "outputs": [
        {
          "output_type": "stream",
          "text": [
            "{3, 4, 5}\n"
          ],
          "name": "stdout"
        }
      ]
    },
    {
      "cell_type": "code",
      "metadata": {
        "colab": {
          "base_uri": "https://localhost:8080/"
        },
        "id": "La3v8kSLJfUR",
        "outputId": "04feca9c-0436-49ad-c974-f659207fe8f5"
      },
      "source": [
        "c1.difference(c2)"
      ],
      "execution_count": 22,
      "outputs": [
        {
          "output_type": "execute_result",
          "data": {
            "text/plain": [
              "{1, 2}"
            ]
          },
          "metadata": {
            "tags": []
          },
          "execution_count": 22
        }
      ]
    },
    {
      "cell_type": "code",
      "metadata": {
        "colab": {
          "base_uri": "https://localhost:8080/"
        },
        "id": "6gUVc4bbLzBg",
        "outputId": "f08b30d8-844c-4b95-c1d5-bab9a114b4c8"
      },
      "source": [
        "c2.difference(c1)"
      ],
      "execution_count": 23,
      "outputs": [
        {
          "output_type": "execute_result",
          "data": {
            "text/plain": [
              "{6, 7}"
            ]
          },
          "metadata": {
            "tags": []
          },
          "execution_count": 23
        }
      ]
    },
    {
      "cell_type": "code",
      "metadata": {
        "id": "MEsoYWsAMBuv"
      },
      "source": [
        ""
      ],
      "execution_count": null,
      "outputs": []
    }
  ]
}